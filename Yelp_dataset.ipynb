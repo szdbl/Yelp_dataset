{
 "cells": [
  {
   "cell_type": "markdown",
   "metadata": {},
   "source": [
    "# Analysis plan"
   ]
  },
  {
   "cell_type": "code",
   "execution_count": null,
   "metadata": {
    "code_folding": [
     0
    ],
    "collapsed": true
   },
   "outputs": [],
   "source": [
    "#\n",
    "'''\n",
    "# Yelp business model focal points (relevant to dataset): \n",
    "- two sides: personal users and businesses (primary source of revenue)\n",
    "- revenue source: ads/traffic/Yelp reservation\n",
    "\n",
    "# questions/objective:\n",
    "- restaurants\n",
    "    - what leads to more reviews and higher review stars?\n",
    "    - target restaurants for sales \n",
    "- users\n",
    "    - who are valuable users (giving more reviews with good quality)?\n",
    "    - how to improve engagement?\n",
    "    - target audience market for user acquisition (need more info)\n",
    "- reviews\n",
    "    - what kind of reviews are found more useful?\n",
    "    - lenth vs stars\n",
    "    \n",
    "--- parking lot ---\n",
    "- geo vs review/activity density\n",
    "- geo vs restaurant type preferrence\n",
    "\n",
    "# assumptions (or will need to check)\n",
    "- the dataset of reviews is a random sample and is good representation of all the reviews \n",
    "- \n",
    "\n",
    "# insights\n",
    "- \n",
    "\n",
    "# next steps (further data collection, model, test, etc) \n",
    "- NLP, classify reviews\n",
    "- time analysis\n",
    "\n",
    "# recommendation for change of design of search page\n",
    "'''"
   ]
  },
  {
   "cell_type": "markdown",
   "metadata": {},
   "source": [
    "# Loading"
   ]
  },
  {
   "cell_type": "code",
   "execution_count": 2,
   "metadata": {
    "code_folding": [
     0
    ],
    "collapsed": false
   },
   "outputs": [
    {
     "name": "stdout",
     "output_type": "stream",
     "text": [
      "[('review', (54222, 10)), ('reviwer', (16518, 14)), ('business', (1381, 23)), ('joined', (54222, 45))]\n"
     ]
    }
   ],
   "source": [
    "# -load\n",
    "p1 = '/Users/sz/sz_projects/Yelp_dataset/Yelp Takehome Dataset/charlotte_review.csv'\n",
    "p2 = '/Users/sz/sz_projects/Yelp_dataset/Yelp Takehome Dataset/charlotte_reviewer.csv'\n",
    "p3 = '/Users/sz/sz_projects/Yelp_dataset/Yelp Takehome Dataset/charlotte_business.csv'\n",
    "p4 = '/Users/sz/sz_projects/Yelp_dataset/Yelp Takehome Dataset/charlotte_data_joined.csv'\n",
    "review = pd.read_csv(p1)\n",
    "reviewer = pd.read_csv(p2)\n",
    "business = pd.read_csv(p3)\n",
    "joined = pd.read_csv(p4)\n",
    "# data shape\n",
    "dfs = zip(['review','reviwer','business','joined'],[review,reviewer,business,joined])\n",
    "print [(i[0],i[1].shape) for i in dfs]"
   ]
  },
  {
   "cell_type": "markdown",
   "metadata": {},
   "source": [
    "# Data QA and prep"
   ]
  },
  {
   "cell_type": "code",
   "execution_count": 42,
   "metadata": {
    "code_folding": [
     0
    ],
    "collapsed": true
   },
   "outputs": [
    {
     "name": "stdout",
     "output_type": "stream",
     "text": [
      "Series([], dtype: int64)\n",
      "Series([], dtype: int64)\n",
      "business_Take-out                1326\n",
      "business_Alcohol                 1194\n",
      "business_NoiseLevel              1172\n",
      "business_Attire                  1303\n",
      "business_Delivery                1292\n",
      "business_HasTV                   1239\n",
      "business_TakesReservations       1310\n",
      "business_WheelchairAccessible     704\n",
      "business_WaiterService           1221\n",
      "business_AcceptsCreditCards      1322\n",
      "business_GoodforKids             1309\n",
      "business_GoodForGroups           1316\n",
      "business_PriceRange              1318\n",
      "dtype: int64\n"
     ]
    }
   ],
   "source": [
    "# -sample\n",
    "#review.sample(100)\n",
    "# -any missing data? business table has some null in these columns\n",
    "for df in [review, reviewer, business]:\n",
    "    c = df.count()\n",
    "    print c[c<>len(df)]\n",
    "# -do foreign keys match perfectly? Yes.\n",
    "#len(review[~review.reviewer_id.isin(reviewer.reviewer_id)])\n",
    "#len(reviewer[~reviewer.reviewer_id.isin(review.reviewer_id)])\n",
    "#len(review[~review.business_id.isin(business.business_id)])\n",
    "#len(business[~business.business_id.isin(review.business_id)])\n",
    "# -any duplicates? No.\n",
    "#review.duplicated().sum()\n",
    "#reviewer.duplicated().sum()\n",
    "#business.duplicated().sum()"
   ]
  },
  {
   "cell_type": "code",
   "execution_count": 6,
   "metadata": {
    "code_folding": [
     0
    ],
    "collapsed": false
   },
   "outputs": [],
   "source": [
    "# -Tableau data source\n",
    "business['zip'] = business.business_full_address.str[-5:]\n",
    "business.drop('business_full_address', axis=1).to_csv('business_tableau.txt', index=False)"
   ]
  },
  {
   "cell_type": "markdown",
   "metadata": {},
   "source": [
    "# Data Exploration"
   ]
  },
  {
   "cell_type": "code",
   "execution_count": 92,
   "metadata": {
    "collapsed": true
   },
   "outputs": [
    {
     "data": {
      "text/plain": [
       "review_date             object\n",
       "review_id               object\n",
       "review_stars           float64\n",
       "review_text             object\n",
       "review_funny_votes       int64\n",
       "review_useful_votes      int64\n",
       "review_cool_votes        int64\n",
       "review_total_votes       int64\n",
       "reviewer_id             object\n",
       "business_id             object\n",
       "month                   object\n",
       "year                    object\n",
       "dtype: object"
      ]
     },
     "execution_count": 92,
     "metadata": {},
     "output_type": "execute_result"
    }
   ],
   "source": [
    "#review.head()\n",
    "review.dtypes"
   ]
  },
  {
   "cell_type": "markdown",
   "metadata": {},
   "source": [
    "## - Engagement over time\n",
    "- time range: 2005 ~ 2014 (data not available for whole month/year in 2004 and 2015)\n",
    "- overall: reviews, reviewers, restaurants are increasing every year (table below)\n",
    "- per reviewer/restaurant: count of reviews are increasing (chart below)"
   ]
  },
  {
   "cell_type": "code",
   "execution_count": 80,
   "metadata": {
    "code_folding": [
     0
    ],
    "collapsed": true
   },
   "outputs": [
    {
     "name": "stdout",
     "output_type": "stream",
     "text": [
      "Overall:\n"
     ]
    },
    {
     "data": {
      "text/html": [
       "\n",
       "        <style  type=\"text/css\" >\n",
       "        \n",
       "            #T_88f80994_af67_11e6_b7cf_5cf93898cd02 th {\n",
       "            \n",
       "                background: #eee;\n",
       "            \n",
       "                font-weight: 500;\n",
       "            \n",
       "            }\n",
       "        \n",
       "            #T_88f80994_af67_11e6_b7cf_5cf93898cd02 td {\n",
       "            \n",
       "                text-align: right;\n",
       "            \n",
       "                min-width: 3em;\n",
       "            \n",
       "            }\n",
       "        \n",
       "            #T_88f80994_af67_11e6_b7cf_5cf93898cd02 * {\n",
       "            \n",
       "                border-color: #c0c0c0;\n",
       "            \n",
       "            }\n",
       "        \n",
       "        \n",
       "        </style>\n",
       "\n",
       "        <table id=\"T_88f80994_af67_11e6_b7cf_5cf93898cd02\" None>\n",
       "        \n",
       "\n",
       "        <thead>\n",
       "            \n",
       "            <tr>\n",
       "                \n",
       "                <th class=\"blank\">\n",
       "                \n",
       "                <th class=\"col_heading level0 col0\">reviews\n",
       "                \n",
       "                <th class=\"col_heading level0 col1\">reviewers\n",
       "                \n",
       "                <th class=\"col_heading level0 col2\">restaurants\n",
       "                \n",
       "                <th class=\"col_heading level0 col3\">delta_reviews\n",
       "                \n",
       "                <th class=\"col_heading level0 col4\">delta_reviewers\n",
       "                \n",
       "                <th class=\"col_heading level0 col5\">delta_restaurants\n",
       "                \n",
       "            </tr>\n",
       "            \n",
       "            <tr>\n",
       "                \n",
       "                <th class=\"col_heading level2 col0\">year\n",
       "                \n",
       "                <th class=\"blank\">\n",
       "                \n",
       "                <th class=\"blank\">\n",
       "                \n",
       "                <th class=\"blank\">\n",
       "                \n",
       "                <th class=\"blank\">\n",
       "                \n",
       "                <th class=\"blank\">\n",
       "                \n",
       "                <th class=\"blank\">\n",
       "                \n",
       "            </tr>\n",
       "            \n",
       "        </thead>\n",
       "        <tbody>\n",
       "            \n",
       "            <tr>\n",
       "                \n",
       "                <th id=\"T_88f80994_af67_11e6_b7cf_5cf93898cd02\" class=\"row_heading level0 row0\">\n",
       "                    2006\n",
       "                \n",
       "                <td id=\"T_88f80994_af67_11e6_b7cf_5cf93898cd02row0_col0\" class=\"data row0 col0\">\n",
       "                    101\n",
       "                \n",
       "                <td id=\"T_88f80994_af67_11e6_b7cf_5cf93898cd02row0_col1\" class=\"data row0 col1\">\n",
       "                    21\n",
       "                \n",
       "                <td id=\"T_88f80994_af67_11e6_b7cf_5cf93898cd02row0_col2\" class=\"data row0 col2\">\n",
       "                    78\n",
       "                \n",
       "                <td id=\"T_88f80994_af67_11e6_b7cf_5cf93898cd02row0_col3\" class=\"data row0 col3\">\n",
       "                    677%\n",
       "                \n",
       "                <td id=\"T_88f80994_af67_11e6_b7cf_5cf93898cd02row0_col4\" class=\"data row0 col4\">\n",
       "                    320%\n",
       "                \n",
       "                <td id=\"T_88f80994_af67_11e6_b7cf_5cf93898cd02row0_col5\" class=\"data row0 col5\">\n",
       "                    500%\n",
       "                \n",
       "            </tr>\n",
       "            \n",
       "            <tr>\n",
       "                \n",
       "                <th id=\"T_88f80994_af67_11e6_b7cf_5cf93898cd02\" class=\"row_heading level5 row1\">\n",
       "                    2007\n",
       "                \n",
       "                <td id=\"T_88f80994_af67_11e6_b7cf_5cf93898cd02row1_col0\" class=\"data row1 col0\">\n",
       "                    234\n",
       "                \n",
       "                <td id=\"T_88f80994_af67_11e6_b7cf_5cf93898cd02row1_col1\" class=\"data row1 col1\">\n",
       "                    76\n",
       "                \n",
       "                <td id=\"T_88f80994_af67_11e6_b7cf_5cf93898cd02row1_col2\" class=\"data row1 col2\">\n",
       "                    136\n",
       "                \n",
       "                <td id=\"T_88f80994_af67_11e6_b7cf_5cf93898cd02row1_col3\" class=\"data row1 col3\">\n",
       "                    132%\n",
       "                \n",
       "                <td id=\"T_88f80994_af67_11e6_b7cf_5cf93898cd02row1_col4\" class=\"data row1 col4\">\n",
       "                    262%\n",
       "                \n",
       "                <td id=\"T_88f80994_af67_11e6_b7cf_5cf93898cd02row1_col5\" class=\"data row1 col5\">\n",
       "                    74%\n",
       "                \n",
       "            </tr>\n",
       "            \n",
       "            <tr>\n",
       "                \n",
       "                <th id=\"T_88f80994_af67_11e6_b7cf_5cf93898cd02\" class=\"row_heading level5 row2\">\n",
       "                    2008\n",
       "                \n",
       "                <td id=\"T_88f80994_af67_11e6_b7cf_5cf93898cd02row2_col0\" class=\"data row2 col0\">\n",
       "                    1066\n",
       "                \n",
       "                <td id=\"T_88f80994_af67_11e6_b7cf_5cf93898cd02row2_col1\" class=\"data row2 col1\">\n",
       "                    236\n",
       "                \n",
       "                <td id=\"T_88f80994_af67_11e6_b7cf_5cf93898cd02row2_col2\" class=\"data row2 col2\">\n",
       "                    371\n",
       "                \n",
       "                <td id=\"T_88f80994_af67_11e6_b7cf_5cf93898cd02row2_col3\" class=\"data row2 col3\">\n",
       "                    356%\n",
       "                \n",
       "                <td id=\"T_88f80994_af67_11e6_b7cf_5cf93898cd02row2_col4\" class=\"data row2 col4\">\n",
       "                    211%\n",
       "                \n",
       "                <td id=\"T_88f80994_af67_11e6_b7cf_5cf93898cd02row2_col5\" class=\"data row2 col5\">\n",
       "                    173%\n",
       "                \n",
       "            </tr>\n",
       "            \n",
       "            <tr>\n",
       "                \n",
       "                <th id=\"T_88f80994_af67_11e6_b7cf_5cf93898cd02\" class=\"row_heading level5 row3\">\n",
       "                    2009\n",
       "                \n",
       "                <td id=\"T_88f80994_af67_11e6_b7cf_5cf93898cd02row3_col0\" class=\"data row3 col0\">\n",
       "                    1465\n",
       "                \n",
       "                <td id=\"T_88f80994_af67_11e6_b7cf_5cf93898cd02row3_col1\" class=\"data row3 col1\">\n",
       "                    480\n",
       "                \n",
       "                <td id=\"T_88f80994_af67_11e6_b7cf_5cf93898cd02row3_col2\" class=\"data row3 col2\">\n",
       "                    447\n",
       "                \n",
       "                <td id=\"T_88f80994_af67_11e6_b7cf_5cf93898cd02row3_col3\" class=\"data row3 col3\">\n",
       "                    37%\n",
       "                \n",
       "                <td id=\"T_88f80994_af67_11e6_b7cf_5cf93898cd02row3_col4\" class=\"data row3 col4\">\n",
       "                    103%\n",
       "                \n",
       "                <td id=\"T_88f80994_af67_11e6_b7cf_5cf93898cd02row3_col5\" class=\"data row3 col5\">\n",
       "                    20%\n",
       "                \n",
       "            </tr>\n",
       "            \n",
       "            <tr>\n",
       "                \n",
       "                <th id=\"T_88f80994_af67_11e6_b7cf_5cf93898cd02\" class=\"row_heading level5 row4\">\n",
       "                    2010\n",
       "                \n",
       "                <td id=\"T_88f80994_af67_11e6_b7cf_5cf93898cd02row4_col0\" class=\"data row4 col0\">\n",
       "                    4002\n",
       "                \n",
       "                <td id=\"T_88f80994_af67_11e6_b7cf_5cf93898cd02row4_col1\" class=\"data row4 col1\">\n",
       "                    1214\n",
       "                \n",
       "                <td id=\"T_88f80994_af67_11e6_b7cf_5cf93898cd02row4_col2\" class=\"data row4 col2\">\n",
       "                    683\n",
       "                \n",
       "                <td id=\"T_88f80994_af67_11e6_b7cf_5cf93898cd02row4_col3\" class=\"data row4 col3\">\n",
       "                    173%\n",
       "                \n",
       "                <td id=\"T_88f80994_af67_11e6_b7cf_5cf93898cd02row4_col4\" class=\"data row4 col4\">\n",
       "                    153%\n",
       "                \n",
       "                <td id=\"T_88f80994_af67_11e6_b7cf_5cf93898cd02row4_col5\" class=\"data row4 col5\">\n",
       "                    53%\n",
       "                \n",
       "            </tr>\n",
       "            \n",
       "            <tr>\n",
       "                \n",
       "                <th id=\"T_88f80994_af67_11e6_b7cf_5cf93898cd02\" class=\"row_heading level5 row5\">\n",
       "                    2011\n",
       "                \n",
       "                <td id=\"T_88f80994_af67_11e6_b7cf_5cf93898cd02row5_col0\" class=\"data row5 col0\">\n",
       "                    7573\n",
       "                \n",
       "                <td id=\"T_88f80994_af67_11e6_b7cf_5cf93898cd02row5_col1\" class=\"data row5 col1\">\n",
       "                    2332\n",
       "                \n",
       "                <td id=\"T_88f80994_af67_11e6_b7cf_5cf93898cd02row5_col2\" class=\"data row5 col2\">\n",
       "                    873\n",
       "                \n",
       "                <td id=\"T_88f80994_af67_11e6_b7cf_5cf93898cd02row5_col3\" class=\"data row5 col3\">\n",
       "                    89%\n",
       "                \n",
       "                <td id=\"T_88f80994_af67_11e6_b7cf_5cf93898cd02row5_col4\" class=\"data row5 col4\">\n",
       "                    92%\n",
       "                \n",
       "                <td id=\"T_88f80994_af67_11e6_b7cf_5cf93898cd02row5_col5\" class=\"data row5 col5\">\n",
       "                    28%\n",
       "                \n",
       "            </tr>\n",
       "            \n",
       "            <tr>\n",
       "                \n",
       "                <th id=\"T_88f80994_af67_11e6_b7cf_5cf93898cd02\" class=\"row_heading level5 row6\">\n",
       "                    2012\n",
       "                \n",
       "                <td id=\"T_88f80994_af67_11e6_b7cf_5cf93898cd02row6_col0\" class=\"data row6 col0\">\n",
       "                    9191\n",
       "                \n",
       "                <td id=\"T_88f80994_af67_11e6_b7cf_5cf93898cd02row6_col1\" class=\"data row6 col1\">\n",
       "                    3324\n",
       "                \n",
       "                <td id=\"T_88f80994_af67_11e6_b7cf_5cf93898cd02row6_col2\" class=\"data row6 col2\">\n",
       "                    1009\n",
       "                \n",
       "                <td id=\"T_88f80994_af67_11e6_b7cf_5cf93898cd02row6_col3\" class=\"data row6 col3\">\n",
       "                    21%\n",
       "                \n",
       "                <td id=\"T_88f80994_af67_11e6_b7cf_5cf93898cd02row6_col4\" class=\"data row6 col4\">\n",
       "                    43%\n",
       "                \n",
       "                <td id=\"T_88f80994_af67_11e6_b7cf_5cf93898cd02row6_col5\" class=\"data row6 col5\">\n",
       "                    16%\n",
       "                \n",
       "            </tr>\n",
       "            \n",
       "            <tr>\n",
       "                \n",
       "                <th id=\"T_88f80994_af67_11e6_b7cf_5cf93898cd02\" class=\"row_heading level5 row7\">\n",
       "                    2013\n",
       "                \n",
       "                <td id=\"T_88f80994_af67_11e6_b7cf_5cf93898cd02row7_col0\" class=\"data row7 col0\">\n",
       "                    12579\n",
       "                \n",
       "                <td id=\"T_88f80994_af67_11e6_b7cf_5cf93898cd02row7_col1\" class=\"data row7 col1\">\n",
       "                    4829\n",
       "                \n",
       "                <td id=\"T_88f80994_af67_11e6_b7cf_5cf93898cd02row7_col2\" class=\"data row7 col2\">\n",
       "                    1175\n",
       "                \n",
       "                <td id=\"T_88f80994_af67_11e6_b7cf_5cf93898cd02row7_col3\" class=\"data row7 col3\">\n",
       "                    37%\n",
       "                \n",
       "                <td id=\"T_88f80994_af67_11e6_b7cf_5cf93898cd02row7_col4\" class=\"data row7 col4\">\n",
       "                    45%\n",
       "                \n",
       "                <td id=\"T_88f80994_af67_11e6_b7cf_5cf93898cd02row7_col5\" class=\"data row7 col5\">\n",
       "                    16%\n",
       "                \n",
       "            </tr>\n",
       "            \n",
       "            <tr>\n",
       "                \n",
       "                <th id=\"T_88f80994_af67_11e6_b7cf_5cf93898cd02\" class=\"row_heading level5 row8\">\n",
       "                    2014\n",
       "                \n",
       "                <td id=\"T_88f80994_af67_11e6_b7cf_5cf93898cd02row8_col0\" class=\"data row8 col0\">\n",
       "                    17452\n",
       "                \n",
       "                <td id=\"T_88f80994_af67_11e6_b7cf_5cf93898cd02row8_col1\" class=\"data row8 col1\">\n",
       "                    8131\n",
       "                \n",
       "                <td id=\"T_88f80994_af67_11e6_b7cf_5cf93898cd02row8_col2\" class=\"data row8 col2\">\n",
       "                    1269\n",
       "                \n",
       "                <td id=\"T_88f80994_af67_11e6_b7cf_5cf93898cd02row8_col3\" class=\"data row8 col3\">\n",
       "                    39%\n",
       "                \n",
       "                <td id=\"T_88f80994_af67_11e6_b7cf_5cf93898cd02row8_col4\" class=\"data row8 col4\">\n",
       "                    68%\n",
       "                \n",
       "                <td id=\"T_88f80994_af67_11e6_b7cf_5cf93898cd02row8_col5\" class=\"data row8 col5\">\n",
       "                    8%\n",
       "                \n",
       "            </tr>\n",
       "            \n",
       "        </tbody>\n",
       "        </table>\n",
       "        "
      ],
      "text/plain": [
       "<prettypandas.styler.PrettyPandas at 0x119d08310>"
      ]
     },
     "execution_count": 80,
     "metadata": {},
     "output_type": "execute_result"
    },
    {
     "data": {
      "text/plain": [
       "<matplotlib.axes._subplots.AxesSubplot at 0x1247f2ed0>"
      ]
     },
     "execution_count": 80,
     "metadata": {},
     "output_type": "execute_result"
    },
    {
     "data": {
      "image/png": "[encoded data removed]",
      "text/plain": [
       "<matplotlib.figure.Figure at 0x12352b9d0>"
      ]
     },
     "metadata": {},
     "output_type": "display_data"
    }
   ],
   "source": [
    "# -Engagement over time\n",
    "#print review.review_date.min(), review.review_date.max() # 2004 and 2015 didn't have complete month/year\n",
    "#review['month'] = review.review_date.str[:7]\n",
    "#review['year'] = review.review_date.str[:4]\n",
    "con_ex = (review.year<'2015') & (review.year>'2004')\n",
    "gp_mh = review[con_ex].groupby('month') \n",
    "gp_yr = review[con_ex].groupby('year')\n",
    "\n",
    "# -overall:\n",
    "print 'Overall:'\n",
    "from prettypandas import PrettyPandas as pp\n",
    "ct_overall = gp_yr['review_id','reviewer_id','business_id'].agg(lambda x: x.nunique())\n",
    "ct_overall.columns = ['reviews','reviewers','restaurants']\n",
    "ct_overall['delta_reviews'] = ct_overall.reviews.pct_change()\n",
    "ct_overall['delta_reviewers'] = ct_overall.reviewers.pct_change()\n",
    "ct_overall['delta_restaurants'] = ct_overall.restaurants.pct_change()\n",
    "pp(ct_overall[ct_overall.index>'2005']).as_percent([i for i in ct_overall.columns if 'delta' in i])\n",
    "\n",
    "# -per reviewer/restaurant\n",
    "rpb = review[con_ex].groupby(['month','business_id'], as_index=False).size().reset_index().groupby(['month'])[0].mean()\n",
    "rpr = review[con_ex].groupby(['month','reviewer_id'], as_index=False).size().reset_index().groupby(['month'])[0].mean()\n",
    "df_per = pd.DataFrame({'reviewers_per_reviewer': rpr, 'reviews_per_restaurant':rpb})\n",
    "df_per.plot(title='Reviews Per Reviewer/Restaurant', figsize=(10,5))"
   ]
  },
  {
   "cell_type": "code",
   "execution_count": 122,
   "metadata": {
    "code_folding": [
     0
    ],
    "collapsed": true
   },
   "outputs": [
    {
     "data": {
      "text/plain": [
       "reviewer_id\n",
       "K5dxGhJ99TmS6La6krwkcg    37\n",
       "llkm_iXQszkN5DZvmqjNqA     4\n",
       "mGSyq3buf9AggxuXuZRkyQ     1\n",
       "K7KeCgY2G2OUKCrhgWsd8A     1\n",
       "dtype: int64"
      ]
     },
     "execution_count": 122,
     "metadata": {},
     "output_type": "execute_result"
    },
    {
     "data": {
      "text/html": [
       "<div>\n",
       "<table border=\"1\" class=\"dataframe\">\n",
       "  <thead>\n",
       "    <tr style=\"text-align: right;\">\n",
       "      <th></th>\n",
       "      <th>review_stars</th>\n",
       "      <th>review_text</th>\n",
       "    </tr>\n",
       "  </thead>\n",
       "  <tbody>\n",
       "    <tr>\n",
       "      <th>15834</th>\n",
       "      <td>3.0</td>\n",
       "      <td>This is a great place to get all kinds of bar ...</td>\n",
       "    </tr>\n",
       "    <tr>\n",
       "      <th>6636</th>\n",
       "      <td>3.0</td>\n",
       "      <td>The pizza here is good, but not great.  There ...</td>\n",
       "    </tr>\n",
       "    <tr>\n",
       "      <th>7110</th>\n",
       "      <td>2.0</td>\n",
       "      <td>Pike's was always the place we went to grab on...</td>\n",
       "    </tr>\n",
       "    <tr>\n",
       "      <th>7397</th>\n",
       "      <td>4.0</td>\n",
       "      <td>Showmar's, like many of the restaurants in Cha...</td>\n",
       "    </tr>\n",
       "    <tr>\n",
       "      <th>16390</th>\n",
       "      <td>4.0</td>\n",
       "      <td>This is a nice little Mexican place-  the food...</td>\n",
       "    </tr>\n",
       "    <tr>\n",
       "      <th>11489</th>\n",
       "      <td>2.0</td>\n",
       "      <td>If I could I would give this place a 2.5, but ...</td>\n",
       "    </tr>\n",
       "    <tr>\n",
       "      <th>5922</th>\n",
       "      <td>4.0</td>\n",
       "      <td>Yummmmmm!  This place has great sandwiches and...</td>\n",
       "    </tr>\n",
       "    <tr>\n",
       "      <th>13980</th>\n",
       "      <td>2.0</td>\n",
       "      <td>I went to the Fig Tree thinking it was going t...</td>\n",
       "    </tr>\n",
       "    <tr>\n",
       "      <th>6792</th>\n",
       "      <td>3.0</td>\n",
       "      <td>Ok, this place can be a great little neighborh...</td>\n",
       "    </tr>\n",
       "    <tr>\n",
       "      <th>3034</th>\n",
       "      <td>4.0</td>\n",
       "      <td>The Chicken Box is awesome!  This place totall...</td>\n",
       "    </tr>\n",
       "  </tbody>\n",
       "</table>\n",
       "</div>"
      ],
      "text/plain": [
       "       review_stars                                        review_text\n",
       "15834           3.0  This is a great place to get all kinds of bar ...\n",
       "6636            3.0  The pizza here is good, but not great.  There ...\n",
       "7110            2.0  Pike's was always the place we went to grab on...\n",
       "7397            4.0  Showmar's, like many of the restaurants in Cha...\n",
       "16390           4.0  This is a nice little Mexican place-  the food...\n",
       "11489           2.0  If I could I would give this place a 2.5, but ...\n",
       "5922            4.0  Yummmmmm!  This place has great sandwiches and...\n",
       "13980           2.0  I went to the Fig Tree thinking it was going t...\n",
       "6792            3.0  Ok, this place can be a great little neighborh...\n",
       "3034            4.0  The Chicken Box is awesome!  This place totall..."
      ]
     },
     "execution_count": 122,
     "metadata": {},
     "output_type": "execute_result"
    },
    {
     "data": {
      "text/plain": [
       "4.133333333333334"
      ]
     },
     "execution_count": 122,
     "metadata": {},
     "output_type": "execute_result"
    }
   ],
   "source": [
    "# -spike in Nov 2006 (outliers to be exluded for analysis later)\n",
    "#rpr.sort_values(ascending=False)\n",
    "#rpr.plot(kind='box');\n",
    "review[review.month=='2006-11'].groupby('reviewer_id').size().sort_values(ascending=False)\n",
    "# -one reviewer gave 37 reviews that month\n",
    "#reviewer[reviewer.reviewer_id =='K5dxGhJ99TmS6La6krwkcg']\n",
    "review[['review_stars','review_text']][review.reviewer_id =='K5dxGhJ99TmS6La6krwkcg'].sample(10) # reviews all seem legit\n",
    "# -but he doesn't usually write as many review in a month...\n",
    "review[review.reviewer_id =='K5dxGhJ99TmS6La6krwkcg'].groupby('month').size().mean()"
   ]
  },
  {
   "cell_type": "markdown",
   "metadata": {},
   "source": [
    "## - Reviewers and restaurants"
   ]
  },
  {
   "cell_type": "markdown",
   "metadata": {},
   "source": [
    "# Modeling and testing"
   ]
  },
  {
   "cell_type": "markdown",
   "metadata": {},
   "source": [
    "## - What leads to more reviews?"
   ]
  },
  {
   "cell_type": "markdown",
   "metadata": {},
   "source": [
    "## - What leads to higher review stars?"
   ]
  },
  {
   "cell_type": "markdown",
   "metadata": {},
   "source": [
    "## - Target restaurants for sales"
   ]
  },
  {
   "cell_type": "markdown",
   "metadata": {},
   "source": [
    "## - User analysis\n",
    "- who are valuable users?\n",
    "- how to increase engagement"
   ]
  },
  {
   "cell_type": "code",
   "execution_count": null,
   "metadata": {
    "collapsed": true
   },
   "outputs": [],
   "source": []
  }
 ],
 "metadata": {
  "anaconda-cloud": {},
  "gist": {
   "data": {
    "description": "Yelp_dataset/Yelp_dataset.ipynb",
    "public": false
   },
   "id": ""
  },
  "kernelspec": {
   "display_name": "Python [default]",
   "language": "python",
   "name": "python2"
  },
  "language_info": {
   "codemirror_mode": {
    "name": "ipython",
    "version": 2
   },
   "file_extension": ".py",
   "mimetype": "text/x-python",
   "name": "python",
   "nbconvert_exporter": "python",
   "pygments_lexer": "ipython2",
   "version": "2.7.12"
  }
 },
 "nbformat": 4,
 "nbformat_minor": 0
}
